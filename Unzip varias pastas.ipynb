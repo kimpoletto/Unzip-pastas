{
 "cells": [
  {
   "cell_type": "code",
   "execution_count": 1,
   "id": "c80e9638",
   "metadata": {},
   "outputs": [],
   "source": [
    "import os \n",
    "import zipfile"
   ]
  },
  {
   "cell_type": "code",
   "execution_count": null,
   "id": "5e08d80f",
   "metadata": {},
   "outputs": [],
   "source": [
    "#scratch\n",
    "diretorio = r'C:\\Users\\kimge\\Pictures\\EditAGOLBanner\\Monitoramento de pessoas e veículs\\MONITOR\\Nova pasta\\Nova pasta (4)'\n",
    "\n",
    "for roots, dirs, files in os.walk(diretorio):\n",
    "    for file in files:\n",
    "        \n",
    "\n",
    "        target = f'{roots}\\\\{file}'\n",
    "        root = zipfile.ZipFile(target)\n",
    "\n",
    "        root.extractall(f'{roots}')"
   ]
  }
 ],
 "metadata": {
  "kernelspec": {
   "display_name": "Python 3",
   "language": "python",
   "name": "python3"
  },
  "language_info": {
   "codemirror_mode": {
    "name": "ipython",
    "version": 3
   },
   "file_extension": ".py",
   "mimetype": "text/x-python",
   "name": "python",
   "nbconvert_exporter": "python",
   "pygments_lexer": "ipython3",
   "version": "3.8.8"
  }
 },
 "nbformat": 4,
 "nbformat_minor": 5
}
